{
 "cells": [
  {
   "cell_type": "markdown",
   "metadata": {},
   "source": [
    "# Helper notebook to help parse and analyze results from the experiments"
   ]
  },
  {
   "cell_type": "code",
   "execution_count": null,
   "metadata": {},
   "outputs": [],
   "source": [
    "from tqdm import tqdm \n",
    "from sklearn.metrics import roc_curve\n",
    "import numpy as np\n",
    "from scipy.stats import mode\n",
    "import random\n",
    "\n",
    "def compute_eer(label, pred):\n",
    "    \"\"\"\n",
    "    Computes EER given a list of labels and predictions.\n",
    "\n",
    "    Code inspired by https://github.com/YuanGongND/python-compute-eer\n",
    "    \"\"\"\n",
    "    # all fpr, tpr, fnr, fnr, threshold are lists (in the format of np.array)\n",
    "    fpr, tpr, threshold = roc_curve(label, pred)\n",
    "    fnr = 1 - tpr\n",
    "\n",
    "    # theoretically eer from fpr and eer from fnr should be identical but they can be slightly differ in reality\n",
    "    eer_1 = fpr[np.nanargmin(np.absolute((fnr - fpr)))]\n",
    "    eer_2 = fnr[np.nanargmin(np.absolute((fnr - fpr)))]\n",
    "\n",
    "    # return the mean of eer from fpr and from fnr\n",
    "    eer = (eer_1 + eer_2) / 2\n",
    "    return eer\n",
    "\n",
    "\n",
    "def calculate_eer_in_sliding_window(y_test, res, window_size=1):\n",
    "    '''\n",
    "    Computes the EER using a window of size `window_size`\n",
    "    '''\n",
    "    frrs = []\n",
    "    fars = []\n",
    "    end_index = max(np.where(y_test == 1)[0])\n",
    "    user_results = res[: end_index]\n",
    "    intruder_results = res[end_index:]\n",
    "\n",
    "    user_windows = user_results[(\n",
    "        np.expand_dims(np.arange(window_size), 0) +\n",
    "        np.expand_dims(np.arange(len(user_results) - window_size), 0).T\n",
    "    )]\n",
    "\n",
    "    intruder_windows = intruder_results[(\n",
    "            np.expand_dims(np.arange(window_size), 0) +\n",
    "            np.expand_dims(np.arange(len(intruder_results) - window_size), 0).T\n",
    "        )]\n",
    "\n",
    "    desc_scores = np.sort(res)[::-1]\n",
    "    thresholds = []\n",
    "    for threshold in desc_scores[::10]:\n",
    "        FRR = 1 - np.mean(mode(user_windows >= threshold, axis=1)[0])\n",
    "        FAR = 1 - np.mean(mode(intruder_windows < threshold, axis=1)[0])\n",
    "\n",
    "        thresholds.append(threshold)\n",
    "        frrs.append(FRR)\n",
    "        fars.append(FAR)\n",
    "\n",
    "    fars = np.array(fars)\n",
    "    frrs = np.array(frrs)\n",
    "    thresholds = np.array(thresholds)\n",
    "\n",
    "    eer = fars[np.argwhere(np.diff(np.sign(fars - frrs))).flatten()]\n",
    "    thresh = thresholds[np.argwhere(np.diff(np.sign(fars - frrs))).flatten()]\n",
    "    return (eer[0], thresh) if eer.size > 0 else (1, 0)\n",
    "\n",
    "def calculate_eer_with_intruders(y_test, res, window_size=1, intruders = 1, threshold = 0):\n",
    "    '''\n",
    "    Calculates the EER by polluting teh data with `intruders` indtruders. threshold for the EER has to be provided. \n",
    "    '''\n",
    "    end_index = max(np.where(y_test == 1)[0])\n",
    "    user_results = res[: end_index]\n",
    "    intruder_results = res[end_index:]\n",
    "\n",
    "    user_windows = user_results[(\n",
    "        np.expand_dims(np.arange(window_size), 0) +\n",
    "        np.expand_dims(np.arange(len(user_results) - window_size), 0).T\n",
    "    )]\n",
    "\n",
    "    intruder_windows = intruder_results[(\n",
    "            np.expand_dims(np.arange(intruders), 0) +\n",
    "            np.expand_dims(np.arange(len(intruder_results) - window_size), 0).T\n",
    "        )]\n",
    "\n",
    "    start_index = random.randint(0, intruder_windows.shape[0] - user_windows.shape[0] - 2)\n",
    "    intruder_windows = intruder_windows[start_index: start_index + user_windows.shape[0]]\n",
    "    if intruders != 0:\n",
    "        user_windows[:, -intruders:] = intruder_windows\n",
    "\n",
    "    return np.mean(mode(user_windows > threshold, axis=1)[0])"
   ]
  },
  {
   "cell_type": "markdown",
   "metadata": {},
   "source": [
    "# Calculate results from a specific experiment (for all iterations)"
   ]
  },
  {
   "cell_type": "code",
   "execution_count": null,
   "metadata": {},
   "outputs": [],
   "source": [
    "import pickle, glob\n",
    "\n",
    "results = []\n",
    "for file in tqdm(glob.glob(f'test_results/*/*')):\n",
    "    with open(file, 'rb') as f:\n",
    "        y_test, res, *_ = pickle.load(f)\n",
    "    results.append(compute_eer(y_test, res))\n",
    "print(np.mean(results, axis=0))"
   ]
  },
  {
   "cell_type": "markdown",
   "metadata": {},
   "source": [
    "# Calculate EER in sliding window - majority vote\n",
    "\n",
    "Calculate the EER in a sliding window using majority vote appraoch. Multithreading is employed due to the large amount of data."
   ]
  },
  {
   "cell_type": "code",
   "execution_count": null,
   "metadata": {},
   "outputs": [],
   "source": [
    "import glob\n",
    "import numpy as np\n",
    "import pickle\n",
    "from multiprocessing import Pool\n",
    "\n",
    "def calc_eer_with_winow(file_path):\n",
    "    r = []\n",
    "    with open(file_path, 'rb') as f:\n",
    "        y_test, res, *_ = pickle.load(f)\n",
    "        for windows in [3,5,7,9,11,13]:\n",
    "            a = calculate_eer_in_sliding_window(y_test, res, windows)\n",
    "            r.append(a)\n",
    "    with open(f'touchalytics_area_windows/{file_path.split(\"/\")[-1]}', 'wb') as f:\n",
    "        pickle.dump(r, f)\n",
    "\n",
    "\n",
    "# In case the script is paused, only process the data that has not been processed yet\n",
    "l = list(glob.glob('results/touchalytics_with_area/*'))\n",
    "l = [int(x.split('_')[-1][:-4]) for x in l]\n",
    "\n",
    "l2 = list(glob.glob('touchalytics_area_windows/*'))\n",
    "l2 = [int(x.split('_')[-1][:-4]) for x in l2]\n",
    "a = list(set(l).difference(set(l2)))\n",
    "\n",
    "a = [x for x in list(glob.glob('results/touchalytics_with_area/*')) if int(x.split('_')[-1][:-4]) in a]\n",
    "\n",
    "with Pool(32) as p:\n",
    "    p.map(calc_eer_with_winow, a)\n"
   ]
  },
  {
   "cell_type": "markdown",
   "metadata": {},
   "source": [
    "# Calculate intruder effect on EER - majority vote windows\n",
    "\n",
    "Calcualtes the intruder effects on EER.\n",
    "Thresholds have to be generated before for each window size, using the `calculate_eer_in_sliding_window` method."
   ]
  },
  {
   "cell_type": "code",
   "execution_count": null,
   "metadata": {},
   "outputs": [],
   "source": [
    "result = []\n",
    "\n",
    "for fn in tqdm(sorted(glob.glob('results/touchalytics_with_area/*'))):\n",
    "    with open(fn, 'rb') as f:\n",
    "        uid = int(fn.split('_')[-1][:-4])\n",
    "        y_test, res, *_ = pickle.load(f)\n",
    "        tr = []\n",
    "        for i in range(0,11):\n",
    "            tr.append(np.mean([calculate_eer_with_intruders(y_test, res, 11, i, r[uid][-1][1][0]) for _ in range(100)]))\n",
    "        result.append(tr)\n",
    "\n",
    "result = np.array(result)"
   ]
  },
  {
   "cell_type": "markdown",
   "metadata": {},
   "source": [
    "# Calculate mean and std of features in same-session adn different session windows\n",
    "\n",
    "Calculates the std of means, and the std of stds for each feature in same session windows (non-overlaping windows of size 400 are expected to have similar values).\n",
    "\n",
    "The following cell performs the same calculations with windows from different sessions (windows over the entire sessions are expected to have values larger than the previous ones).\n",
    "\n",
    "Data has to be loaded from the pickled BrainRun file."
   ]
  },
  {
   "cell_type": "code",
   "execution_count": null,
   "metadata": {},
   "outputs": [],
   "source": [
    "intra_session_results = []\n",
    "window_split = 400\n",
    "\n",
    "for user_id in range(len(users)):\n",
    "    for session in users[user_id]['devices'][0]['sessions']:\n",
    "        if len(session) < window_split:\n",
    "            continue\n",
    "        splits_mean = np.array([np.mean(session[i:i+window_split], axis = 0) for i in range(0, len(session), window_split)])\n",
    "        splits_std = np.array([np.std(session[i:i+window_split], axis = 0) for i in range(0, len(session), window_split)])\n",
    "        std_of_means = np.std(splits_mean, axis = 0)\n",
    "        std_of_stds = np.std(splits_std, axis = 0)\n",
    "        m1 = np.mean(std_of_means)\n",
    "        m2 = np.mean(std_of_stds)\n",
    "        intra_session_results.append((m1, m2))\n",
    "\n",
    "intra_session_results = np.array(intra_session_results)\n",
    "np.mean(intra_session_results, axis = 0)\n"
   ]
  },
  {
   "cell_type": "code",
   "execution_count": null,
   "metadata": {},
   "outputs": [],
   "source": [
    "inter_session_results = []\n",
    "window_split = 1000\n",
    "sess_m = []\n",
    "sess_s = []\n",
    "\n",
    "for user_id in range(len(users)):\n",
    "    for session in users[user_id]['devices'][0]['sessions']:\n",
    "        if len(session) < window_split:\n",
    "            continue\n",
    "        session_mean = np.mean(session, axis = 0)\n",
    "        session_std = np.std(session, axis = 0)\n",
    "        sess_m.append(session_mean)\n",
    "        sess_s.append(session_std)\n",
    "\n",
    "print(np.mean(np.std(sess_m, axis = 0)))\n",
    "print(np.mean(np.std(sess_s, axis = 0)))"
   ]
  }
 ],
 "metadata": {
  "interpreter": {
   "hash": "f53960d5aeb28c1a7463a799ad0c04f4f38fc8f3b33719c45fe38cc563587d2f"
  },
  "kernelspec": {
   "display_name": "myvenv",
   "language": "python",
   "name": "python3"
  },
  "language_info": {
   "codemirror_mode": {
    "name": "ipython",
    "version": 3
   },
   "file_extension": ".py",
   "mimetype": "text/x-python",
   "name": "python",
   "nbconvert_exporter": "python",
   "pygments_lexer": "ipython3",
   "version": "3.6.8"
  },
  "orig_nbformat": 4
 },
 "nbformat": 4,
 "nbformat_minor": 2
}
