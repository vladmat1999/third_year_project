{
 "cells": [
  {
   "cell_type": "markdown",
   "metadata": {},
   "source": [
    "# Helper notebook to help parse and analyze results from the experiments"
   ]
  },
  {
   "cell_type": "code",
   "execution_count": null,
   "metadata": {},
   "outputs": [],
   "source": [
    "from tqdm import tqdm \n",
    "from sklearn.metrics import roc_curve\n",
    "import numpy as np\n",
    "from scipy.stats import mode\n",
    "import random\n",
    "\n",
    "def compute_eer(label, pred):\n",
    "    \"\"\"\n",
    "    Computes EER given a list of labels and predictions.\n",
    "\n",
    "    Code inspired by https://github.com/YuanGongND/python-compute-eer\n",
    "    \"\"\"\n",
    "    # all fpr, tpr, fnr, fnr, threshold are lists (in the format of np.array)\n",
    "    fpr, tpr, threshold = roc_curve(label, pred)\n",
    "    fnr = 1 - tpr\n",
    "\n",
    "    # theoretically eer from fpr and eer from fnr should be identical but they can be slightly differ in reality\n",
    "    eer_1 = fpr[np.nanargmin(np.absolute((fnr - fpr)))]\n",
    "    eer_2 = fnr[np.nanargmin(np.absolute((fnr - fpr)))]\n",
    "\n",
    "    # return the mean of eer from fpr and from fnr\n",
    "    eer = (eer_1 + eer_2) / 2\n",
    "    return eer\n",
    "\n",
    "\n",
    "def calculate_eer_in_sliding_window(y_test, res, window_size=1):\n",
    "    '''\n",
    "    Computes the EER using a window of size `window_size`\n",
    "    '''\n",
    "    frrs = []\n",
    "    fars = []\n",
    "    end_index = max(np.where(y_test == 1)[0])\n",
    "    user_results = res[: end_index]\n",
    "    intruder_results = res[end_index:]\n",
    "\n",
    "    user_windows = user_results[(\n",
    "        np.expand_dims(np.arange(window_size), 0) +\n",
    "        np.expand_dims(np.arange(len(user_results) - window_size), 0).T\n",
    "    )]\n",
    "\n",
    "    intruder_windows = intruder_results[(\n",
    "            np.expand_dims(np.arange(window_size), 0) +\n",
    "            np.expand_dims(np.arange(len(intruder_results) - window_size), 0).T\n",
    "        )]\n",
    "\n",
    "    desc_scores = np.sort(res)[::-1]\n",
    "    thresholds = []\n",
    "    for threshold in desc_scores[::10]:\n",
    "        FRR = 1 - np.mean(mode(user_windows >= threshold, axis=1)[0])\n",
    "        FAR = 1 - np.mean(mode(intruder_windows < threshold, axis=1)[0])\n",
    "\n",
    "        thresholds.append(threshold)\n",
    "        frrs.append(FRR)\n",
    "        fars.append(FAR)\n",
    "\n",
    "    fars = np.array(fars)\n",
    "    frrs = np.array(frrs)\n",
    "    thresholds = np.array(thresholds)\n",
    "\n",
    "    eer = fars[np.argwhere(np.diff(np.sign(fars - frrs))).flatten()]\n",
    "    thresh = thresholds[np.argwhere(np.diff(np.sign(fars - frrs))).flatten()]\n",
    "    return (eer[0], thresh) if eer.size > 0 else (1, 0)\n",
    "\n",
    "def calculate_eer_with_intruders(y_test, res, window_size=1, intruders = 1, threshold = 0):\n",
    "    '''\n",
    "    Calculates the EER by polluting teh data with `intruders` indtruders. threshold for the EER has to be provided. \n",
    "    '''\n",
    "    end_index = max(np.where(y_test == 1)[0])\n",
    "    user_results = res[: end_index]\n",
    "    intruder_results = res[end_index:]\n",
    "\n",
    "    user_windows = user_results[(\n",
    "        np.expand_dims(np.arange(window_size), 0) +\n",
    "        np.expand_dims(np.arange(len(user_results) - window_size), 0).T\n",
    "    )]\n",
    "\n",
    "    intruder_windows = intruder_results[(\n",
    "            np.expand_dims(np.arange(intruders), 0) +\n",
    "            np.expand_dims(np.arange(len(intruder_results) - window_size), 0).T\n",
    "        )]\n",
    "\n",
    "    start_index = random.randint(0, intruder_windows.shape[0] - user_windows.shape[0] - 2)\n",
    "    intruder_windows = intruder_windows[start_index: start_index + user_windows.shape[0]]\n",
    "    if intruders != 0:\n",
    "        user_windows[:, -intruders:] = intruder_windows\n",
    "\n",
    "    return np.mean(mode(user_windows > threshold, axis=1)[0])"
   ]
  },
  {
   "cell_type": "markdown",
   "metadata": {},
   "source": [
    "# Calculate results from a specific experiment (for all iterations)"
   ]
  },
  {
   "cell_type": "code",
   "execution_count": 8,
   "metadata": {},
   "outputs": [
    {
     "name": "stderr",
     "output_type": "stream",
     "text": [
      "100%|██████████| 41/41 [00:00<00:00, 625.80it/s]"
     ]
    },
    {
     "name": "stdout",
     "output_type": "stream",
     "text": [
      "[0.30608795]\n"
     ]
    },
    {
     "name": "stderr",
     "output_type": "stream",
     "text": [
      "\n"
     ]
    }
   ],
   "source": [
    "import pickle, glob\n",
    "\n",
    "results = []\n",
    "for file in tqdm(glob.glob(f'test_results/*/*')):\n",
    "    with open(file, 'rb') as f:\n",
    "        y_test, res, *_ = pickle.load(f)\n",
    "    results.append(compute_eer(y_test, res))\n",
    "print(np.mean(results, axis=0))"
   ]
  }
 ],
 "metadata": {
  "interpreter": {
   "hash": "f53960d5aeb28c1a7463a799ad0c04f4f38fc8f3b33719c45fe38cc563587d2f"
  },
  "kernelspec": {
   "display_name": "myvenv",
   "language": "python",
   "name": "python3"
  },
  "language_info": {
   "codemirror_mode": {
    "name": "ipython",
    "version": 3
   },
   "file_extension": ".py",
   "mimetype": "text/x-python",
   "name": "python",
   "nbconvert_exporter": "python",
   "pygments_lexer": "ipython3",
   "version": "3.6.8"
  },
  "orig_nbformat": 4
 },
 "nbformat": 4,
 "nbformat_minor": 2
}
